{
 "cells": [
  {
   "cell_type": "markdown",
   "metadata": {},
   "source": [
    "<a id='1-파이썬-시작하기'></a>\n",
    "<div class=\"alert alert-success\" role=\"alert\">\n",
    "    <span style=\"color:black\">\n",
    "        <font size=\"+3\"><b>1 파이썬 시작하기</b></font>\n",
    "    </span>\n",
    "</div> \n",
    "\n",
    "자료 출처: [QuantEcon by Thomas J. Sargent and John Stachurski](https://python-programming.quantecon.org/about_py.html)"
   ]
  },
  {
   "cell_type": "markdown",
   "metadata": {},
   "source": [
    "- [1.1 Python이란?](#1.1-Python이란?)\n",
    "- [1.2 Python 시작하기](#1.2-Python-시작하기)\n",
    "- [1.3 파이선 프로그래밍 맛보기](#1.3-파이선-프로그래밍-맛보기)"
   ]
  },
  {
   "cell_type": "markdown",
   "metadata": {},
   "source": [
    "<a id='1.1-Python이란?'></a>\n",
    "<div class=\"alert alert-block alert-info\">\n",
    "    <font size=\"+2\"><b>1.1 Python이란?</b></font>\n",
    "</div> "
   ]
  },
  {
   "cell_type": "markdown",
   "metadata": {},
   "source": [
    "**파이썬**([Python](https://www.python.org))은 네덜란드 프로그래머인 [Guido van Rossum](https://en.wikipedia.org/wiki/Guido_van_Rossum)이 1989년에 고안한 범용 프로그래밍 언어이다. Python은 무료이고, 오픈 소스이며, [Python Software Foundation](https://www.python.org/psf/)을 통해 개발이 진행된다. Python은 가장 많이 사용되는 10대 프로그래밍 언어에 꾸준히 랭크 되었으며, 2024년 1월 [PYPL(PopularitY of Programming Language)](https://pypl.github.io/PYPL.html) 기준으로 전 세계적으로 가장 인기있는 프로그래밍 언어이다.(파이썬 다음으로 Java, JavaScript, C/C++, C#, R, PHP 순이다.) Python은 과학 컴퓨팅을 위한 주요 도구로 전세계적으로 과학 분야 작업에서 비중이 급속히 확대되고 있다.\n",
    "\n",
    "Python은 우리가 여기에서 다룰 **데이터 분석**뿐만 아니라 웹 개발, CGI(common gateway interface) 및 그래픽 유저 인터페이스, 게임 개발, 멀티미디어, 데이터 처리, 보안 등 거의 모든 애플리케이션 도메인에서 사용되는 범용 언어이다. 파이썬은 Google, Dropbox, YouTube 등 인터넷 서비스 및 첨단테크 회사에서 광범위하게 사용되고 있다."
   ]
  },
  {
   "cell_type": "markdown",
   "metadata": {},
   "source": [
    "파이썬은 많은 라이브러리의 지원을 받는 비교적 작은 핵심 언어를 가지고 있다. Python은 구문이 읽기 쉽고 기억하기 쉽기 때문에 매우 유용하다. 이에 따라 파이썬은 과학 컴퓨팅의 핵심 언어 중 하나가 되었다. 다음 분야에서 지배적 플레이어 또는 메이저 플레이어이며, 경제학을 비롯한 사회과학에서도 인기가 높아지고 있다. \n",
    " - [머신 러닝 및 데이터 과학](http://scikit-learn.org/stable/)\n",
    " - [천문학](http://www.astropy.org/)\n",
    " - [인공 지능](https://wiki.python.org/moin/PythonForArtificialIntelligence)\n",
    " - [화학](http://chemlab.github.io/chemlab/)\n",
    " - [컴퓨터 생물학](http://biopython.org/wiki/Main_Page)\n",
    " - [기상학](https://pypi.org/project/meteorology/)\n",
    "\n",
    "\n",
    "데이터 과학 및 **기계학습**(machine learning) 작업을 위해 다양한 파이썬 패키지(라이브러리 또는 모듈이라고도 함)를 사용한다. 예를 들어, 데이터 통합 및 데이터 분석에 위에서 언급한 `pandas` 패키지를 사용하고, 머신러닝 모형을 구축하기 위해 `scikit-learn` 패키지가 사용되며, 다차원 데이터의 수학적 연산을 실행해야 할 때 `numpy` 패키지가 유용하다. 이런 라이브러리들 덕분에 고가의 통계 패키지(SPSS, STATA, SAS 등) 없이도 다양한 통계분석을 쉽게 할 수 있다."
   ]
  },
  {
   "cell_type": "markdown",
   "metadata": {},
   "source": [
    "<a id='1.2-Python-시작하기'></a>\n",
    "<div class=\"alert alert-block alert-info\">\n",
    "    <font size=\"+2\"><b>1.2 Python 시작하기</b></font>\n",
    "</div> "
   ]
  },
  {
   "cell_type": "markdown",
   "metadata": {},
   "source": [
    "Jupyter 노트북에서 키보드 입력의 효과는 **사용중인 모드에 따라 다르다**.\n",
    "\n",
    " 1. **편집**(edit) 모드\n",
    "   - 셀 주변이 녹색 테두리와 깜박이는 커서로 표시\n",
    "   - 입력한 내용이 해당 셀에 있는 그대로 표시된다.   \n",
    "   \n",
    "   \n",
    " 2. **명령**(command) 모드\n",
    "   - 녹색 테두리가 회색 및 파란색 테두리로 대체\n",
    "   - 키 입력은 명령으로 해석된다. 예를 들어 `b`를 입력하면 현재 셀 아래에 새 셀이 추가된다.\n",
    "\n",
    "\n",
    "모드를 전환하려면\n",
    "\n",
    " - 편집 모드에서 명령 모드로 전환하기: `Esc` 또는 `Ctrl+M` 누르기\n",
    " - 명령 모드에서 편집 모드로 전환하기: `Enter`를 누르거나 셀을 클릭"
   ]
  },
  {
   "cell_type": "markdown",
   "metadata": {},
   "source": [
    "<a id='1.3-파이선-프로그래밍-맛보기'></a>\n",
    "<div class=\"alert alert-block alert-info\">\n",
    "    <font size=\"+2\"><b>1.3 파이선 프로그래밍 맛보기</b></font>\n",
    "</div> "
   ]
  },
  {
   "cell_type": "markdown",
   "metadata": {},
   "source": [
    "테스트 프로그램을 실행해보자. 여기에서는 세부 내용에 신경쓰지 말고 파이썬 코드가 이런 것이라는 정도만 알고, 해당 셀에 커서를 놓고 `Shift+Enter` 또는 `Ctrl+Enter`로 실행을 연습해보자.\n",
    "\n",
    "### 숫자 프로그래밍\n",
    "\n",
    "행렬(matrix) 및 배열(array)의 기본적 처리 기능은 넘파이([NumPy](http://www.numpy.org/)) 라이브러리에서 제공한다. 예를 들어, 다음과 같이 배열을 만들어보자. 배열이란 벡터, 행렬, 숫자표 등을 표현하기 위해 항목을 차례로 배열한 것을 말한다."
   ]
  },
  {
   "cell_type": "code",
   "execution_count": 1,
   "metadata": {
    "hide-output": false
   },
   "outputs": [
    {
     "data": {
      "text/plain": [
       "array([-3.14159265, -3.07812614, -3.01465962, -2.9511931 , -2.88772658,\n",
       "       -2.82426006, -2.76079354, -2.69732703, -2.63386051, -2.57039399,\n",
       "       -2.50692747, -2.44346095, -2.37999443, -2.31652792, -2.2530614 ,\n",
       "       -2.18959488, -2.12612836, -2.06266184, -1.99919533, -1.93572881,\n",
       "       -1.87226229, -1.80879577, -1.74532925, -1.68186273, -1.61839622,\n",
       "       -1.5549297 , -1.49146318, -1.42799666, -1.36453014, -1.30106362,\n",
       "       -1.23759711, -1.17413059, -1.11066407, -1.04719755, -0.98373103,\n",
       "       -0.92026451, -0.856798  , -0.79333148, -0.72986496, -0.66639844,\n",
       "       -0.60293192, -0.53946541, -0.47599889, -0.41253237, -0.34906585,\n",
       "       -0.28559933, -0.22213281, -0.1586663 , -0.09519978, -0.03173326,\n",
       "        0.03173326,  0.09519978,  0.1586663 ,  0.22213281,  0.28559933,\n",
       "        0.34906585,  0.41253237,  0.47599889,  0.53946541,  0.60293192,\n",
       "        0.66639844,  0.72986496,  0.79333148,  0.856798  ,  0.92026451,\n",
       "        0.98373103,  1.04719755,  1.11066407,  1.17413059,  1.23759711,\n",
       "        1.30106362,  1.36453014,  1.42799666,  1.49146318,  1.5549297 ,\n",
       "        1.61839622,  1.68186273,  1.74532925,  1.80879577,  1.87226229,\n",
       "        1.93572881,  1.99919533,  2.06266184,  2.12612836,  2.18959488,\n",
       "        2.2530614 ,  2.31652792,  2.37999443,  2.44346095,  2.50692747,\n",
       "        2.57039399,  2.63386051,  2.69732703,  2.76079354,  2.82426006,\n",
       "        2.88772658,  2.9511931 ,  3.01465962,  3.07812614,  3.14159265])"
      ]
     },
     "execution_count": 1,
     "metadata": {},
     "output_type": "execute_result"
    }
   ],
   "source": [
    "import numpy as np                     # numpy 라이브러리 로드\n",
    "\n",
    "a = np.linspace(-np.pi, np.pi, 100)    # -π에서 π까지 100개의 동일 간격 그리드 만들기\n",
    "a"
   ]
  },
  {
   "cell_type": "markdown",
   "metadata": {},
   "source": [
    "#### 파이썬 라이브러리\n",
    "\n",
    "**라이브러리**(library)는 기본 파이썬 배포판에는 포함되지 않은 모듈 또는 함수 그룹을 로딩하는 데 사용된다. 아주 기본적인 분석을 수행하는 함수는 기본 파이썬 배포판에 표준으로 제공되지만 좀 더 다양하고 복잡한 함수나 작업을 위해서는 해당 라이브러리를 불러와서 사용한다. 참고로 2022년 11월 현재 Python 소프트웨어의 공식 저장소인 PyPI(Python Package Index)에는 다양한 기능을 가진 41만개 이상의 라이브러리 패키지가 있다.(Wikipedia, \"[Python (programming language)][key]\") \n",
    "\n",
    "[key]: https://en.wikipedia.org/wiki/Python_(programming_language)\n",
    "\n",
    "아나콘다 배포판을 설치하고 주피터 노트북을 통해 파이썬을 사용하는 경우, 머신러닝 통계 분석에 필요한 각종 표준적인 라이브러리 패키지를 사용자가 직접 다운로드할 필요가 없고, 이미 이런 라이브러리들이 설치돼있다. 단, 설치된 라이브러리를 사용하기 위해서는 그 때마다 바로 위 명령문의 예처럼 해당 라이브러리를 호출하는 절차(즉, `import numpy as np`)가 필요하다. "
   ]
  },
  {
   "cell_type": "markdown",
   "metadata": {},
   "source": [
    "[SciPy](http://www.scipy.org) 라이브러리는 NumPy 위에 구축되었으며, 예를 들어 $ \\int_{-2}^2 \\phi(z) dz $와 같은 적분 계산이 가능하다. 여기서 $ \\phi $는 표준정규(standard normal) 확률밀도함수(probability density function)이다."
   ]
  },
  {
   "cell_type": "code",
   "execution_count": 2,
   "metadata": {
    "hide-output": false
   },
   "outputs": [
    {
     "data": {
      "text/plain": [
       "0.9544997361036417"
      ]
     },
     "execution_count": 2,
     "metadata": {},
     "output_type": "execute_result"
    }
   ],
   "source": [
    "from scipy.stats import norm\n",
    "from scipy.integrate import quad\n",
    "\n",
    "ϕ = norm()\n",
    "value, error = quad(ϕ.pdf, -2, 2)  # 가우시안 구적법(Gaussian quadrature)을 사용하여 적분 실행\n",
    "value"
   ]
  },
  {
   "cell_type": "markdown",
   "metadata": {},
   "source": [
    "### Symbolic Algebra\n",
    "\n",
    "Mathematica 또는 Maple에서처럼 기호 표현 계산 등이 가능하다. [SymPy](http://www.sympy.org/) 라이브러리는 이 기능을 제공한다."
   ]
  },
  {
   "cell_type": "code",
   "execution_count": 3,
   "metadata": {
    "hide-output": false
   },
   "outputs": [
    {
     "data": {
      "text/latex": [
       "$\\displaystyle 3 x + y$"
      ],
      "text/plain": [
       "3*x + y"
      ]
     },
     "execution_count": 3,
     "metadata": {},
     "output_type": "execute_result"
    }
   ],
   "source": [
    "from sympy import Symbol\n",
    "\n",
    "x, y = Symbol('x'), Symbol('y')  # 'x'와 'y'를 대수 기호로 취급\n",
    "x + x + x + y"
   ]
  },
  {
   "cell_type": "markdown",
   "metadata": {},
   "source": [
    "이 경우 다음과 같은 조작이 가능하다."
   ]
  },
  {
   "cell_type": "code",
   "execution_count": 4,
   "metadata": {
    "hide-output": false
   },
   "outputs": [
    {
     "data": {
      "text/latex": [
       "$\\displaystyle x^{3} + 3 x^{2} y + 3 x y^{2} + y^{3}$"
      ],
      "text/plain": [
       "x**3 + 3*x**2*y + 3*x*y**2 + y**3"
      ]
     },
     "execution_count": 4,
     "metadata": {},
     "output_type": "execute_result"
    }
   ],
   "source": [
    "expression = (x + y)**3\n",
    "expression.expand()"
   ]
  },
  {
   "cell_type": "markdown",
   "metadata": {},
   "source": [
    "또한 다항식 풀기가 가능하다."
   ]
  },
  {
   "cell_type": "code",
   "execution_count": 5,
   "metadata": {
    "hide-output": false
   },
   "outputs": [
    {
     "data": {
      "text/plain": [
       "[-1/2 - sqrt(7)*I/2, -1/2 + sqrt(7)*I/2]"
      ]
     },
     "execution_count": 5,
     "metadata": {},
     "output_type": "execute_result"
    }
   ],
   "source": [
    "from sympy import solve\n",
    "\n",
    "solve(x**2 + x + 2)"
   ]
  },
  {
   "cell_type": "markdown",
   "metadata": {},
   "source": [
    "### 통계 분석\n",
    "\n",
    "Python의 데이터 관리 및 통계 라이브러리는 지난 몇 년 동안 빠르게 발전해 왔다. 데이터 작업에 가장 많이 사용되는 라이브러리 중 하나는 [pandas](http://pandas.pydata.org/)이다. 다음은 간단한 예이다."
   ]
  },
  {
   "cell_type": "code",
   "execution_count": 6,
   "metadata": {
    "hide-output": false
   },
   "outputs": [
    {
     "name": "stdout",
     "output_type": "stream",
     "text": [
      "               price    weight\n",
      "2022-01-01  0.471435 -1.190976\n",
      "2022-01-02  1.432707 -0.312652\n",
      "2022-01-03 -0.720589  0.887163\n",
      "2022-01-04  0.859588 -0.636524\n",
      "2022-01-05  0.015696 -2.242685\n"
     ]
    }
   ],
   "source": [
    "import pandas as pd\n",
    "np.random.seed(1234)\n",
    "\n",
    "data = np.random.randn(5, 2)  # N(0,1) 정규분포에서 5x2 행렬 임의 추출\n",
    "dates = pd.date_range(start='1/1/2022', end='1/5/2022')\n",
    "\n",
    "df = pd.DataFrame(data, columns=('price', 'weight'), index=dates)\n",
    "print(df)"
   ]
  },
  {
   "cell_type": "code",
   "execution_count": 7,
   "metadata": {
    "hide-output": false
   },
   "outputs": [
    {
     "data": {
      "text/plain": [
       "price     0.411768\n",
       "weight   -0.699135\n",
       "dtype: float64"
      ]
     },
     "execution_count": 7,
     "metadata": {},
     "output_type": "execute_result"
    }
   ],
   "source": [
    "# 바로 위에서 만든 'df'라는 데이터 프레임의 평균값 구하기\n",
    "df.mean()"
   ]
  },
  {
   "cell_type": "markdown",
   "metadata": {},
   "source": [
    "#### 기타 유용한 통계 라이브러리\n",
    "\n",
    "\n",
    "- [statsmodels](http://statsmodels.sourceforge.net/) — 다양한 통계 루틴\n",
    "\n",
    "- [scikit-learn](http://scikit-learn.org/) — Python의 머신러닝(Google 등에서 후원)"
   ]
  },
  {
   "cell_type": "markdown",
   "metadata": {},
   "source": [
    "### Jupyter 노트북 작업 팁\n",
    "\n",
    "#### 온라인 도움말\n",
    "\n",
    "\n",
    "가령 바로 위에서 사용했던 `np.random.randn` 명령어에 대한 도움말을 얻으려면 주피터 노트북 셀에서 해당 명령어의 맨앞이나 맨뒤에 물음표를 붙여 `np.random.randn?`을 실행하면 된다. 도움말 문서가 아래와 같이 브라우저의 분할 창에 나타난다.(그런데 이렇게 하는 대신 Googl에서 `np.random.randn`을 검색해보는 것이 더 도움이 될 때가 많다.)"
   ]
  },
  {
   "cell_type": "code",
   "execution_count": 8,
   "metadata": {},
   "outputs": [],
   "source": [
    "np.random.randn?"
   ]
  },
  {
   "cell_type": "markdown",
   "metadata": {},
   "source": [
    "#### 기타 콘텐츠\n",
    "\n",
    "코드를 실행하는 것 외에도 주피터 노트북을 사용하면 페이지에 텍스트, 방정식, 그림 및 비디오까지 포함할 수 있다. 셀에 커서가 있는 상태에서 마우스를 사용하여 메뉴 항목 목록 바로 아래의 `Code`로 돼 있는 드롭 다운 메뉴에서 `Markdown`을 선택하면, (LaTeX와 비슷하지만 더 간단한) \"Markdown\"이라는 마크업(markup) 언어를 작성할 수 있다. 여러분이 보고 있는 현재 셀의 문서가 마크다운으로 작성된 것이며, 텍스트뿐 아니라 다음과 같이 식을 표현할 수도 있다.\n",
    "\n",
    "If $\\{A_n\\}$ is pairwise disjoint, then\n",
    "$$ \\mu(\\cup_n A_n) = \\sum_m \\mu(A_n) $$"
   ]
  },
  {
   "cell_type": "markdown",
   "metadata": {},
   "source": [
    "#### 라이브러리 설치\n",
    "\n",
    "\n",
    "앞서 설명한 대로 기본적으로 필요한 라이브러리는 아나콘다에 이미 들어있는데, 여기에 들어있지 않은 추가적으로 필요한 라이브러리는 `pip` 또는 `conda`로 자신이 직접 설치해야 한다.(`pip`은 파이썬 패키지를 설치하는 반면, `conda`는 파이썬뿐 아니라 C, C++, R 등 모든 언어로 작성된 소프트웨어를 포함한다.)\n",
    "\n",
    "가령 [QuantEcon.py](http://quantecon.org/quantecon-py)은 경제학을 위한 고성능 오픈 소스 파이썬 코드 라이브러리인데, 여기에서 제공하는 `quantecon`를 설치하기 위해서는 아나콘다 프롬프트 창에서 다음을 실행하면 된다.\n",
    "\n",
    "```\n",
    "(base) C:\\Users\\pilsu>pip install quantecon  또는\n",
    "(base) C:\\Users\\pilsu>conda install quantecon\n",
    "```\n",
    "\n",
    "또는 위와 동일한 명령문을 주피터 노트북에서도 실행시킬 수 있는데, 이 때는 맨 앞에 `%`를 붙여서 사용한다. 즉 주피터 노트북의 임의의 셀에서 `%pip install quantecon`이나 `%conda install quantecon`을 입력하고 실행하면 된다."
   ]
  }
 ],
 "metadata": {
  "kernelspec": {
   "display_name": "Python 3 (ipykernel)",
   "language": "python",
   "name": "python3"
  },
  "language_info": {
   "codemirror_mode": {
    "name": "ipython",
    "version": 3
   },
   "file_extension": ".py",
   "mimetype": "text/x-python",
   "name": "python",
   "nbconvert_exporter": "python",
   "pygments_lexer": "ipython3",
   "version": "3.11.4"
  },
  "title": "About Python"
 },
 "nbformat": 4,
 "nbformat_minor": 4
}
